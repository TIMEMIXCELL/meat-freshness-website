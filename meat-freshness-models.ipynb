{
 "cells": [
  {
   "cell_type": "code",
   "execution_count": 1,
   "metadata": {},
   "outputs": [],
   "source": [
    "# importing lib\n",
    "import cv2\n",
    "import numpy as np\n",
    "import os\n",
    "import pandas as pd\n",
    "import tensorflow as tp\n",
    "from tensorflow.keras.utils import to_categorical\n",
    "from tensorflow.keras.models import Sequential\n",
    "from tensorflow.keras import layers\n",
    "from tensorflow.keras.preprocessing.image import ImageDataGenerator\n",
    "from matplotlib import pyplot\n",
    "from sklearn.model_selection import train_test_split\n",
    "from tensorflow.keras.layers import Conv2D, MaxPooling2D, Flatten, Dense, Dropout, BatchNormalization\n",
    "from tensorflow.keras.optimizers import Adam\n",
    "from tensorflow.keras.callbacks import EarlyStopping, ReduceLROnPlateau"
   ]
  },
  {
   "cell_type": "code",
   "execution_count": 2,
   "metadata": {},
   "outputs": [
    {
     "name": "stdout",
     "output_type": "stream",
     "text": [
      "Train Directory Exists: True\n",
      "Validation Directory Exists: True\n",
      "Number of Training Images: 1834\n",
      "Number of Validation Images: 452\n"
     ]
    }
   ],
   "source": [
    "train_dir = \"./train2\"\n",
    "valid_dir = \"./valid\"\n",
    "\n",
    "# เช็คจำนวนไฟล์รูปภาพ\n",
    "def count_files(directory):\n",
    "    file_count = 0\n",
    "    for root, dirs, files in os.walk(directory):\n",
    "        file_count += len(files)\n",
    "    return file_count\n",
    "\n",
    "# ดูว่าค้นเจอไฟล์มั้ยกับเเสดงว่ามีกี่ไฟล์\n",
    "print(\"Train Directory Exists:\", os.path.exists(train_dir))\n",
    "print(\"Validation Directory Exists:\", os.path.exists(valid_dir))\n",
    "\n",
    "if os.path.exists(train_dir):\n",
    "    print(\"Number of Training Images:\", count_files(train_dir))\n",
    "else:\n",
    "    print(\"Train Directory does not exist\")\n",
    "\n",
    "if os.path.exists(valid_dir):\n",
    "    print(\"Number of Validation Images:\", count_files(valid_dir))\n",
    "else:\n",
    "    print(\"Validation Directory does not exist\")"
   ]
  },
  {
   "cell_type": "code",
   "execution_count": 3,
   "metadata": {},
   "outputs": [],
   "source": [
    "#กำหนด list train_x, train_y\n",
    "train_x = []\n",
    "train_y = []\n",
    "test_x = []\n",
    "test_y = []"
   ]
  },
  {
   "cell_type": "code",
   "execution_count": 4,
   "metadata": {},
   "outputs": [
    {
     "name": "stdout",
     "output_type": "stream",
     "text": [
      "{'SPOILED': 0, 'HALF': 1, 'FRESH': 2}\n"
     ]
    }
   ],
   "source": [
    "#label class\n",
    "class_label_encoding = {\n",
    "    'SPOILED': 0,\n",
    "    'HALF': 1,\n",
    "    'FRESH': 2\n",
    "}\n",
    "print(class_label_encoding)"
   ]
  },
  {
   "cell_type": "code",
   "execution_count": 5,
   "metadata": {},
   "outputs": [
    {
     "name": "stdout",
     "output_type": "stream",
     "text": [
      "Warning: Unable to read image C:/Users/ACER/Downloads/train2\\FRESH-MEAT.jpg\n",
      "Warning: Unable to read image C:/Users/ACER/Downloads/train2\\FRESH-Pork.jpg\n",
      "Number of training samples: 1831\n",
      "Number of training samples: 1831\n"
     ]
    }
   ],
   "source": [
    "#train_dir = \"C:/Users/ACER/Downloads/Meat Freshness.v1-new-dataset.multiclass/train\"\n",
    "\n",
    "#ปรับขนาดภาพเพื่อให้ ง่ายต่อการคำนวณของ model\n",
    "for file_name in os.listdir(train_dir):\n",
    "    file_path = os.path.join(train_dir, file_name)\n",
    "    #print(f\"Processing file: {file_path}\")\n",
    "    class_name = file_name.split('-')[0]\n",
    "    i = 0\n",
    "    if class_name == '_classes.csv': continue  # ในโฟล์เดอร์ train จะมีเก็บ csv ที่จำเเนก class (ignore file)\n",
    "    img = cv2.imread(file_path)\n",
    "    if img is None:\n",
    "        print(f\"Warning: Unable to read image {file_path}\")\n",
    "        i += 1\n",
    "        continue\n",
    "    img = img.astype('float32')  # read the image\n",
    "    img = cv2.cvtColor(img, cv2.COLOR_BGR2RGB)  # ถ้าใช้ imread จะเเปลงไฟล์เป็น BGR เลยต้องเเปลงกลับเป็น RGB อีกรอบ\n",
    "    img = cv2.resize(img, (128, 128), interpolation=cv2.INTER_AREA)  # resize รูปเป็น 128 x 128\n",
    "    img /= 255.  # normalize\n",
    "    train_x.append(img)\n",
    "    train_y.append(class_label_encoding[class_name])\n",
    "#print(train_y)\n",
    "print(f\"Number of training samples: {len(train_x)}\")\n",
    "print(f\"Number of training samples: {len(train_y)}\")\n"
   ]
  },
  {
   "cell_type": "code",
   "execution_count": 6,
   "metadata": {},
   "outputs": [
    {
     "name": "stdout",
     "output_type": "stream",
     "text": [
      "(1464, 128, 128, 3)\n"
     ]
    }
   ],
   "source": [
    "from sklearn.model_selection import train_test_split\n",
    "\n",
    "# เเปลง list เป็น array\n",
    "\n",
    "import numpy as np\n",
    "train_x = np.array(train_x)\n",
    "train_y = np.array(train_y)\n",
    "# เเบ่งข้อมูล\n",
    "x_train, x_val, y_train, y_val = train_test_split(train_x, train_y, test_size=0.2, random_state=42)\n",
    "print(x_train.shape)"
   ]
  },
  {
   "cell_type": "code",
   "execution_count": 7,
   "metadata": {},
   "outputs": [
    {
     "name": "stderr",
     "output_type": "stream",
     "text": [
      "d:\\งูเหลือม\\lib\\site-packages\\keras\\src\\layers\\convolutional\\base_conv.py:107: UserWarning: Do not pass an `input_shape`/`input_dim` argument to a layer. When using Sequential models, prefer using an `Input(shape)` object as the first layer in the model instead.\n",
      "  super().__init__(activity_regularizer=activity_regularizer, **kwargs)\n"
     ]
    },
    {
     "name": "stdout",
     "output_type": "stream",
     "text": [
      "Epoch 1/50\n"
     ]
    },
    {
     "name": "stderr",
     "output_type": "stream",
     "text": [
      "d:\\งูเหลือม\\lib\\site-packages\\keras\\src\\trainers\\data_adapters\\py_dataset_adapter.py:121: UserWarning: Your `PyDataset` class should call `super().__init__(**kwargs)` in its constructor. `**kwargs` can include `workers`, `use_multiprocessing`, `max_queue_size`. Do not pass these arguments to `fit()`, as they will be ignored.\n",
      "  self._warn_if_super_not_called()\n"
     ]
    },
    {
     "name": "stdout",
     "output_type": "stream",
     "text": [
      "\u001b[1m46/46\u001b[0m \u001b[32m━━━━━━━━━━━━━━━━━━━━\u001b[0m\u001b[37m\u001b[0m \u001b[1m26s\u001b[0m 473ms/step - accuracy: 0.5334 - loss: 1.4327 - val_accuracy: 0.3161 - val_loss: 1.8452 - learning_rate: 0.0010\n",
      "Epoch 2/50\n",
      "\u001b[1m46/46\u001b[0m \u001b[32m━━━━━━━━━━━━━━━━━━━━\u001b[0m\u001b[37m\u001b[0m \u001b[1m21s\u001b[0m 449ms/step - accuracy: 0.6579 - loss: 0.9287 - val_accuracy: 0.3161 - val_loss: 2.4991 - learning_rate: 0.0010\n",
      "Epoch 3/50\n",
      "\u001b[1m46/46\u001b[0m \u001b[32m━━━━━━━━━━━━━━━━━━━━\u001b[0m\u001b[37m\u001b[0m \u001b[1m21s\u001b[0m 447ms/step - accuracy: 0.7450 - loss: 0.6766 - val_accuracy: 0.3161 - val_loss: 4.2746 - learning_rate: 0.0010\n",
      "Epoch 4/50\n",
      "\u001b[1m46/46\u001b[0m \u001b[32m━━━━━━━━━━━━━━━━━━━━\u001b[0m\u001b[37m\u001b[0m \u001b[1m21s\u001b[0m 434ms/step - accuracy: 0.7854 - loss: 0.5636 - val_accuracy: 0.3161 - val_loss: 7.4370 - learning_rate: 0.0010\n",
      "Epoch 5/50\n",
      "\u001b[1m46/46\u001b[0m \u001b[32m━━━━━━━━━━━━━━━━━━━━\u001b[0m\u001b[37m\u001b[0m \u001b[1m20s\u001b[0m 432ms/step - accuracy: 0.8057 - loss: 0.5345 - val_accuracy: 0.3161 - val_loss: 3.7831 - learning_rate: 0.0010\n",
      "Epoch 6/50\n",
      "\u001b[1m46/46\u001b[0m \u001b[32m━━━━━━━━━━━━━━━━━━━━\u001b[0m\u001b[37m\u001b[0m \u001b[1m20s\u001b[0m 432ms/step - accuracy: 0.8217 - loss: 0.4816 - val_accuracy: 0.3161 - val_loss: 3.6915 - learning_rate: 0.0010\n",
      "Epoch 7/50\n",
      "\u001b[1m46/46\u001b[0m \u001b[32m━━━━━━━━━━━━━━━━━━━━\u001b[0m\u001b[37m\u001b[0m \u001b[1m20s\u001b[0m 429ms/step - accuracy: 0.8030 - loss: 0.4550 - val_accuracy: 0.3161 - val_loss: 3.3983 - learning_rate: 2.0000e-04\n",
      "Epoch 8/50\n",
      "\u001b[1m46/46\u001b[0m \u001b[32m━━━━━━━━━━━━━━━━━━━━\u001b[0m\u001b[37m\u001b[0m \u001b[1m21s\u001b[0m 437ms/step - accuracy: 0.8321 - loss: 0.4016 - val_accuracy: 0.3161 - val_loss: 2.8220 - learning_rate: 2.0000e-04\n",
      "Epoch 9/50\n",
      "\u001b[1m46/46\u001b[0m \u001b[32m━━━━━━━━━━━━━━━━━━━━\u001b[0m\u001b[37m\u001b[0m \u001b[1m20s\u001b[0m 430ms/step - accuracy: 0.8337 - loss: 0.3534 - val_accuracy: 0.3188 - val_loss: 2.3248 - learning_rate: 2.0000e-04\n",
      "Epoch 10/50\n",
      "\u001b[1m46/46\u001b[0m \u001b[32m━━━━━━━━━━━━━━━━━━━━\u001b[0m\u001b[37m\u001b[0m \u001b[1m20s\u001b[0m 428ms/step - accuracy: 0.8454 - loss: 0.3738 - val_accuracy: 0.4360 - val_loss: 1.6013 - learning_rate: 2.0000e-04\n",
      "Epoch 11/50\n",
      "\u001b[1m46/46\u001b[0m \u001b[32m━━━━━━━━━━━━━━━━━━━━\u001b[0m\u001b[37m\u001b[0m \u001b[1m20s\u001b[0m 427ms/step - accuracy: 0.8516 - loss: 0.3449 - val_accuracy: 0.6213 - val_loss: 0.9029 - learning_rate: 2.0000e-04\n",
      "Epoch 12/50\n",
      "\u001b[1m46/46\u001b[0m \u001b[32m━━━━━━━━━━━━━━━━━━━━\u001b[0m\u001b[37m\u001b[0m \u001b[1m21s\u001b[0m 442ms/step - accuracy: 0.8735 - loss: 0.3451 - val_accuracy: 0.7084 - val_loss: 0.6141 - learning_rate: 2.0000e-04\n",
      "Epoch 13/50\n",
      "\u001b[1m46/46\u001b[0m \u001b[32m━━━━━━━━━━━━━━━━━━━━\u001b[0m\u001b[37m\u001b[0m \u001b[1m20s\u001b[0m 432ms/step - accuracy: 0.8808 - loss: 0.3012 - val_accuracy: 0.8147 - val_loss: 0.4633 - learning_rate: 2.0000e-04\n",
      "Epoch 14/50\n",
      "\u001b[1m46/46\u001b[0m \u001b[32m━━━━━━━━━━━━━━━━━━━━\u001b[0m\u001b[37m\u001b[0m \u001b[1m20s\u001b[0m 430ms/step - accuracy: 0.8833 - loss: 0.2759 - val_accuracy: 0.9155 - val_loss: 0.2287 - learning_rate: 2.0000e-04\n",
      "Epoch 15/50\n",
      "\u001b[1m46/46\u001b[0m \u001b[32m━━━━━━━━━━━━━━━━━━━━\u001b[0m\u001b[37m\u001b[0m \u001b[1m20s\u001b[0m 428ms/step - accuracy: 0.8872 - loss: 0.2909 - val_accuracy: 0.5286 - val_loss: 2.1778 - learning_rate: 2.0000e-04\n",
      "Epoch 16/50\n",
      "\u001b[1m46/46\u001b[0m \u001b[32m━━━━━━━━━━━━━━━━━━━━\u001b[0m\u001b[37m\u001b[0m \u001b[1m20s\u001b[0m 426ms/step - accuracy: 0.8899 - loss: 0.2623 - val_accuracy: 0.9401 - val_loss: 0.1753 - learning_rate: 2.0000e-04\n",
      "Epoch 17/50\n",
      "\u001b[1m46/46\u001b[0m \u001b[32m━━━━━━━━━━━━━━━━━━━━\u001b[0m\u001b[37m\u001b[0m \u001b[1m20s\u001b[0m 428ms/step - accuracy: 0.8912 - loss: 0.2573 - val_accuracy: 0.9128 - val_loss: 0.2381 - learning_rate: 2.0000e-04\n",
      "Epoch 18/50\n",
      "\u001b[1m46/46\u001b[0m \u001b[32m━━━━━━━━━━━━━━━━━━━━\u001b[0m\u001b[37m\u001b[0m \u001b[1m21s\u001b[0m 453ms/step - accuracy: 0.8895 - loss: 0.2915 - val_accuracy: 0.9155 - val_loss: 0.2204 - learning_rate: 2.0000e-04\n",
      "Epoch 19/50\n",
      "\u001b[1m46/46\u001b[0m \u001b[32m━━━━━━━━━━━━━━━━━━━━\u001b[0m\u001b[37m\u001b[0m \u001b[1m21s\u001b[0m 444ms/step - accuracy: 0.8676 - loss: 0.3483 - val_accuracy: 0.9210 - val_loss: 0.2164 - learning_rate: 2.0000e-04\n",
      "Epoch 20/50\n",
      "\u001b[1m46/46\u001b[0m \u001b[32m━━━━━━━━━━━━━━━━━━━━\u001b[0m\u001b[37m\u001b[0m \u001b[1m21s\u001b[0m 436ms/step - accuracy: 0.8745 - loss: 0.2835 - val_accuracy: 0.9155 - val_loss: 0.1936 - learning_rate: 2.0000e-04\n",
      "Epoch 21/50\n",
      "\u001b[1m46/46\u001b[0m \u001b[32m━━━━━━━━━━━━━━━━━━━━\u001b[0m\u001b[37m\u001b[0m \u001b[1m20s\u001b[0m 426ms/step - accuracy: 0.9153 - loss: 0.2207 - val_accuracy: 0.9292 - val_loss: 0.2113 - learning_rate: 2.0000e-04\n",
      "Epoch 22/50\n",
      "\u001b[1m46/46\u001b[0m \u001b[32m━━━━━━━━━━━━━━━━━━━━\u001b[0m\u001b[37m\u001b[0m \u001b[1m20s\u001b[0m 427ms/step - accuracy: 0.9128 - loss: 0.2092 - val_accuracy: 0.9564 - val_loss: 0.1255 - learning_rate: 4.0000e-05\n",
      "Epoch 23/50\n",
      "\u001b[1m46/46\u001b[0m \u001b[32m━━━━━━━━━━━━━━━━━━━━\u001b[0m\u001b[37m\u001b[0m \u001b[1m20s\u001b[0m 427ms/step - accuracy: 0.9255 - loss: 0.2161 - val_accuracy: 0.9564 - val_loss: 0.1106 - learning_rate: 4.0000e-05\n",
      "Epoch 24/50\n",
      "\u001b[1m46/46\u001b[0m \u001b[32m━━━━━━━━━━━━━━━━━━━━\u001b[0m\u001b[37m\u001b[0m \u001b[1m20s\u001b[0m 426ms/step - accuracy: 0.9131 - loss: 0.2197 - val_accuracy: 0.9619 - val_loss: 0.1277 - learning_rate: 4.0000e-05\n",
      "Epoch 25/50\n",
      "\u001b[1m46/46\u001b[0m \u001b[32m━━━━━━━━━━━━━━━━━━━━\u001b[0m\u001b[37m\u001b[0m \u001b[1m20s\u001b[0m 429ms/step - accuracy: 0.9327 - loss: 0.1769 - val_accuracy: 0.9619 - val_loss: 0.1181 - learning_rate: 4.0000e-05\n",
      "Epoch 26/50\n",
      "\u001b[1m46/46\u001b[0m \u001b[32m━━━━━━━━━━━━━━━━━━━━\u001b[0m\u001b[37m\u001b[0m \u001b[1m20s\u001b[0m 427ms/step - accuracy: 0.9152 - loss: 0.2194 - val_accuracy: 0.9292 - val_loss: 0.2251 - learning_rate: 4.0000e-05\n",
      "Epoch 27/50\n",
      "\u001b[1m46/46\u001b[0m \u001b[32m━━━━━━━━━━━━━━━━━━━━\u001b[0m\u001b[37m\u001b[0m \u001b[1m20s\u001b[0m 426ms/step - accuracy: 0.9029 - loss: 0.2465 - val_accuracy: 0.9537 - val_loss: 0.1549 - learning_rate: 4.0000e-05\n",
      "Epoch 28/50\n",
      "\u001b[1m46/46\u001b[0m \u001b[32m━━━━━━━━━━━━━━━━━━━━\u001b[0m\u001b[37m\u001b[0m \u001b[1m20s\u001b[0m 433ms/step - accuracy: 0.9224 - loss: 0.2059 - val_accuracy: 0.9482 - val_loss: 0.1385 - learning_rate: 4.0000e-05\n",
      "Epoch 29/50\n",
      "\u001b[1m46/46\u001b[0m \u001b[32m━━━━━━━━━━━━━━━━━━━━\u001b[0m\u001b[37m\u001b[0m \u001b[1m20s\u001b[0m 429ms/step - accuracy: 0.9427 - loss: 0.1619 - val_accuracy: 0.9646 - val_loss: 0.1035 - learning_rate: 1.0000e-05\n",
      "Epoch 30/50\n",
      "\u001b[1m46/46\u001b[0m \u001b[32m━━━━━━━━━━━━━━━━━━━━\u001b[0m\u001b[37m\u001b[0m \u001b[1m21s\u001b[0m 438ms/step - accuracy: 0.9398 - loss: 0.1666 - val_accuracy: 0.9673 - val_loss: 0.0954 - learning_rate: 1.0000e-05\n",
      "Epoch 31/50\n",
      "\u001b[1m46/46\u001b[0m \u001b[32m━━━━━━━━━━━━━━━━━━━━\u001b[0m\u001b[37m\u001b[0m \u001b[1m20s\u001b[0m 429ms/step - accuracy: 0.9303 - loss: 0.1878 - val_accuracy: 0.9673 - val_loss: 0.0894 - learning_rate: 1.0000e-05\n",
      "Epoch 32/50\n",
      "\u001b[1m46/46\u001b[0m \u001b[32m━━━━━━━━━━━━━━━━━━━━\u001b[0m\u001b[37m\u001b[0m \u001b[1m21s\u001b[0m 434ms/step - accuracy: 0.9353 - loss: 0.1747 - val_accuracy: 0.9673 - val_loss: 0.0905 - learning_rate: 1.0000e-05\n",
      "Epoch 33/50\n",
      "\u001b[1m46/46\u001b[0m \u001b[32m━━━━━━━━━━━━━━━━━━━━\u001b[0m\u001b[37m\u001b[0m \u001b[1m20s\u001b[0m 425ms/step - accuracy: 0.9463 - loss: 0.1465 - val_accuracy: 0.9673 - val_loss: 0.0908 - learning_rate: 1.0000e-05\n",
      "Epoch 34/50\n",
      "\u001b[1m46/46\u001b[0m \u001b[32m━━━━━━━━━━━━━━━━━━━━\u001b[0m\u001b[37m\u001b[0m \u001b[1m20s\u001b[0m 427ms/step - accuracy: 0.9227 - loss: 0.2011 - val_accuracy: 0.9673 - val_loss: 0.0949 - learning_rate: 1.0000e-05\n",
      "Epoch 35/50\n",
      "\u001b[1m46/46\u001b[0m \u001b[32m━━━━━━━━━━━━━━━━━━━━\u001b[0m\u001b[37m\u001b[0m \u001b[1m20s\u001b[0m 434ms/step - accuracy: 0.9251 - loss: 0.1949 - val_accuracy: 0.9646 - val_loss: 0.0950 - learning_rate: 1.0000e-05\n",
      "Epoch 36/50\n",
      "\u001b[1m46/46\u001b[0m \u001b[32m━━━━━━━━━━━━━━━━━━━━\u001b[0m\u001b[37m\u001b[0m \u001b[1m21s\u001b[0m 436ms/step - accuracy: 0.9278 - loss: 0.1781 - val_accuracy: 0.9700 - val_loss: 0.0874 - learning_rate: 1.0000e-05\n",
      "Epoch 37/50\n",
      "\u001b[1m46/46\u001b[0m \u001b[32m━━━━━━━━━━━━━━━━━━━━\u001b[0m\u001b[37m\u001b[0m \u001b[1m21s\u001b[0m 441ms/step - accuracy: 0.9348 - loss: 0.1742 - val_accuracy: 0.9700 - val_loss: 0.0860 - learning_rate: 1.0000e-05\n",
      "Epoch 38/50\n",
      "\u001b[1m46/46\u001b[0m \u001b[32m━━━━━━━━━━━━━━━━━━━━\u001b[0m\u001b[37m\u001b[0m \u001b[1m20s\u001b[0m 430ms/step - accuracy: 0.9415 - loss: 0.1779 - val_accuracy: 0.9646 - val_loss: 0.0907 - learning_rate: 1.0000e-05\n",
      "Epoch 39/50\n",
      "\u001b[1m46/46\u001b[0m \u001b[32m━━━━━━━━━━━━━━━━━━━━\u001b[0m\u001b[37m\u001b[0m \u001b[1m20s\u001b[0m 433ms/step - accuracy: 0.9335 - loss: 0.1758 - val_accuracy: 0.9700 - val_loss: 0.0878 - learning_rate: 1.0000e-05\n",
      "Epoch 40/50\n",
      "\u001b[1m46/46\u001b[0m \u001b[32m━━━━━━━━━━━━━━━━━━━━\u001b[0m\u001b[37m\u001b[0m \u001b[1m20s\u001b[0m 432ms/step - accuracy: 0.9387 - loss: 0.1675 - val_accuracy: 0.9673 - val_loss: 0.0931 - learning_rate: 1.0000e-05\n",
      "Epoch 41/50\n",
      "\u001b[1m46/46\u001b[0m \u001b[32m━━━━━━━━━━━━━━━━━━━━\u001b[0m\u001b[37m\u001b[0m \u001b[1m20s\u001b[0m 426ms/step - accuracy: 0.9438 - loss: 0.1551 - val_accuracy: 0.9673 - val_loss: 0.0924 - learning_rate: 1.0000e-05\n",
      "Epoch 42/50\n",
      "\u001b[1m46/46\u001b[0m \u001b[32m━━━━━━━━━━━━━━━━━━━━\u001b[0m\u001b[37m\u001b[0m \u001b[1m21s\u001b[0m 443ms/step - accuracy: 0.9418 - loss: 0.1698 - val_accuracy: 0.9700 - val_loss: 0.0884 - learning_rate: 1.0000e-05\n",
      "Epoch 43/50\n",
      "\u001b[1m46/46\u001b[0m \u001b[32m━━━━━━━━━━━━━━━━━━━━\u001b[0m\u001b[37m\u001b[0m \u001b[1m20s\u001b[0m 431ms/step - accuracy: 0.9366 - loss: 0.1777 - val_accuracy: 0.9646 - val_loss: 0.0875 - learning_rate: 1.0000e-05\n",
      "Epoch 44/50\n",
      "\u001b[1m46/46\u001b[0m \u001b[32m━━━━━━━━━━━━━━━━━━━━\u001b[0m\u001b[37m\u001b[0m \u001b[1m20s\u001b[0m 433ms/step - accuracy: 0.9351 - loss: 0.1619 - val_accuracy: 0.9700 - val_loss: 0.0834 - learning_rate: 1.0000e-05\n",
      "Epoch 45/50\n",
      "\u001b[1m46/46\u001b[0m \u001b[32m━━━━━━━━━━━━━━━━━━━━\u001b[0m\u001b[37m\u001b[0m \u001b[1m21s\u001b[0m 438ms/step - accuracy: 0.9150 - loss: 0.1867 - val_accuracy: 0.9700 - val_loss: 0.0815 - learning_rate: 1.0000e-05\n",
      "Epoch 46/50\n",
      "\u001b[1m46/46\u001b[0m \u001b[32m━━━━━━━━━━━━━━━━━━━━\u001b[0m\u001b[37m\u001b[0m \u001b[1m22s\u001b[0m 455ms/step - accuracy: 0.9424 - loss: 0.1550 - val_accuracy: 0.9700 - val_loss: 0.0834 - learning_rate: 1.0000e-05\n",
      "Epoch 47/50\n",
      "\u001b[1m46/46\u001b[0m \u001b[32m━━━━━━━━━━━━━━━━━━━━\u001b[0m\u001b[37m\u001b[0m \u001b[1m23s\u001b[0m 482ms/step - accuracy: 0.9375 - loss: 0.1784 - val_accuracy: 0.9646 - val_loss: 0.0855 - learning_rate: 1.0000e-05\n",
      "Epoch 48/50\n",
      "\u001b[1m46/46\u001b[0m \u001b[32m━━━━━━━━━━━━━━━━━━━━\u001b[0m\u001b[37m\u001b[0m \u001b[1m21s\u001b[0m 442ms/step - accuracy: 0.9216 - loss: 0.1980 - val_accuracy: 0.9673 - val_loss: 0.0844 - learning_rate: 1.0000e-05\n",
      "Epoch 49/50\n",
      "\u001b[1m46/46\u001b[0m \u001b[32m━━━━━━━━━━━━━━━━━━━━\u001b[0m\u001b[37m\u001b[0m \u001b[1m20s\u001b[0m 432ms/step - accuracy: 0.9451 - loss: 0.1444 - val_accuracy: 0.9673 - val_loss: 0.0822 - learning_rate: 1.0000e-05\n",
      "Epoch 50/50\n",
      "\u001b[1m46/46\u001b[0m \u001b[32m━━━━━━━━━━━━━━━━━━━━\u001b[0m\u001b[37m\u001b[0m \u001b[1m20s\u001b[0m 430ms/step - accuracy: 0.9504 - loss: 0.1381 - val_accuracy: 0.9700 - val_loss: 0.0818 - learning_rate: 1.0000e-05\n"
     ]
    }
   ],
   "source": [
    "from tensorflow.keras.models import Sequential\n",
    "from tensorflow.keras.layers import Conv2D, MaxPooling2D, Flatten, Dense, Dropout, BatchNormalization\n",
    "from tensorflow.keras.optimizers import Adam\n",
    "from tensorflow.keras.callbacks import EarlyStopping, ReduceLROnPlateau\n",
    "from tensorflow.keras.preprocessing.image import ImageDataGenerator\n",
    "\n",
    "# สร้าง Data Augmentation เเบบ real-time\n",
    "datagen = ImageDataGenerator(\n",
    "    rotation_range=20,\n",
    "    width_shift_range=0.2,\n",
    "    height_shift_range=0.2,\n",
    "    horizontal_flip=True,\n",
    "    zoom_range=0.2\n",
    ")\n",
    "\n",
    "# โมเดล\n",
    "model = Sequential([\n",
    "    Conv2D(32, (3, 3), activation='relu', input_shape=(128, 128, 3)),\n",
    "    BatchNormalization(),\n",
    "    MaxPooling2D((2, 2)),\n",
    "    \n",
    "    Conv2D(64, (3, 3), activation='relu'),\n",
    "    BatchNormalization(),\n",
    "    MaxPooling2D((2, 2)),\n",
    "    \n",
    "    Conv2D(128, (3, 3), activation='relu'),  # เพิ่มจำนวนฟิลเตอร์\n",
    "    BatchNormalization(),\n",
    "    MaxPooling2D((2, 2)),\n",
    "    \n",
    "    Conv2D(128, (3, 3), activation='relu'),  # เพิ่มเลเยอร์ Conv2D\n",
    "    BatchNormalization(),\n",
    "    MaxPooling2D((2, 2)),\n",
    "    \n",
    "    Conv2D(256, (3, 3), activation='relu'),  # เพิ่มจำนวนฟิลเตอร์\n",
    "    BatchNormalization(),\n",
    "    MaxPooling2D((2, 2)),\n",
    "    \n",
    "    Flatten(),\n",
    "    Dense(256, activation='relu'),  # เพิ่มจำนวนหน่วยใน Dense layer\n",
    "    BatchNormalization(),\n",
    "    Dropout(0.5),\n",
    "    \n",
    "    Dense(128, activation='relu'),\n",
    "    BatchNormalization(),\n",
    "    Dropout(0.5),\n",
    "    \n",
    "    Dense(len(class_label_encoding), activation='softmax')\n",
    "])\n",
    "\n",
    "optimizer = Adam(learning_rate=0.001)\n",
    "model.compile(optimizer=optimizer,\n",
    "              loss='sparse_categorical_crossentropy',\n",
    "              metrics=['accuracy'])\n",
    "\n",
    "# กำหนด callbacks\n",
    "early_stopping = EarlyStopping(monitor='val_loss', patience=10, restore_best_weights=True)\n",
    "reduce_lr = ReduceLROnPlateau(monitor='val_loss', factor=0.2, patience=5, min_lr=0.00001)\n",
    "\n",
    "# เทรนโมเดล\n",
    "history = model.fit(\n",
    "    datagen.flow(x_train, y_train, batch_size=32),\n",
    "    epochs=50,\n",
    "    validation_data=(x_val, y_val),\n",
    "    callbacks=[early_stopping, reduce_lr]\n",
    ")"
   ]
  },
  {
   "cell_type": "code",
   "execution_count": 8,
   "metadata": {},
   "outputs": [
    {
     "data": {
      "image/png": "[encoded data removed]",
      "text/plain": [
       "<Figure size 1000x600 with 1 Axes>"
      ]
     },
     "metadata": {},
     "output_type": "display_data"
    }
   ],
   "source": [
    "import matplotlib.pyplot as plt\n",
    "\n",
    "# ดึงข้อมูล loss จากการเทรน\n",
    "training_loss = history.history['loss']\n",
    "validation_loss = history.history['val_loss']\n",
    "\n",
    "# สร้างกราฟ\n",
    "plt.figure(figsize=(10, 6))\n",
    "plt.plot(training_loss, label='Training Loss')\n",
    "plt.plot(validation_loss, label='Validation Loss')\n",
    "plt.title('Model Loss')\n",
    "plt.xlabel('Epoch')\n",
    "plt.ylabel('Loss')\n",
    "plt.legend()\n",
    "plt.show()"
   ]
  },
  {
   "cell_type": "code",
   "execution_count": 9,
   "metadata": {},
   "outputs": [
    {
     "name": "stdout",
     "output_type": "stream",
     "text": [
      "<class 'numpy.ndarray'> float32\n",
      "<class 'numpy.ndarray'> int32\n",
      "(451, 128, 128, 3)\n",
      "(451,)\n",
      "\u001b[1m15/15\u001b[0m \u001b[32m━━━━━━━━━━━━━━━━━━━━\u001b[0m\u001b[37m\u001b[0m \u001b[1m1s\u001b[0m 71ms/step - accuracy: 0.9674 - loss: 0.0913\n",
      "Test loss: 0.08723413944244385\n",
      "Test accuracy: 0.9756097793579102\n",
      "\u001b[1m15/15\u001b[0m \u001b[32m━━━━━━━━━━━━━━━━━━━━\u001b[0m\u001b[37m\u001b[0m \u001b[1m2s\u001b[0m 91ms/step\n",
      "[2 2 2 2 2 2 2 2 2 2 2 2 2 2 2 2 2 2 2 2 2 2 2 2 2 2 2 2 2 2 1 2 1 2 2 2 2\n",
      " 2 2 2 2 2 2 2 2 2 0 2 2 2 2 2 2 2 2 2 2 2 2 2 2 2 2 2 2 2 2 2 2 2 2 2 2 2\n",
      " 2 2 2 2 2 2 2 2 2 2 2 2 2 2 2 2 2 2 2 2 2 2 2 2 2 2 2 2 1 2 2 2 2 2 2 2 2\n",
      " 2 2 2 2 2 2 2 2 2 2 2 2 2 2 2 2 2 2 2 2 2 2 2 2 2 1 2 2 2 2 2 2 2 2 2 2 2\n",
      " 2 2 2 2 2 2 2 2 2 2 2 2 2 2 1 2 2 2 2 2 2 2 2 2 2 2 2 2 2 2 2 1 1 1 1 1 1\n",
      " 1 2 1 1 1 1 1 1 1 1 1 1 1 1 1 1 1 1 2 1 1 1 1 1 1 1 1 1 1 1 1 1 1 1 1 1 1\n",
      " 1 1 1 1 1 1 1 1 1 1 1 1 1 1 1 1 1 1 1 1 1 1 1 1 1 1 1 1 1 1 1 1 1 1 1 1 1\n",
      " 1 1 2 2 1 1 1 1 1 1 1 1 1 1 1 1 1 1 1 1 1 1 1 1 1 1 1 1 1 1 1 1 1 1 1 1 1\n",
      " 1 1 1 1 1 1 1 1 1 1 1 1 1 1 1 1 1 1 1 1 1 1 1 1 1 1 1 1 1 1 1 1 1 1 1 1 1\n",
      " 1 1 1 1 0 0 0 0 0 0 0 0 0 0 0 0 0 0 0 0 0 0 0 0 0 0 0 0 0 0 0 0 0 0 0 0 0\n",
      " 0 0 0 0 0 0 0 0 0 0 0 0 0 0 0 0 0 0 0 0 0 0 0 0 0 0 0 0 0 0 0 0 0 0 0 0 0\n",
      " 0 0 0 0 0 0 0 0 0 0 0 0 0 0 0 0 0 0 0 0 0 0 0 0 0 0 0 0 0 0 0 0 0 0 0 0 0\n",
      " 0 0 0 0 0 0 0]\n"
     ]
    }
   ],
   "source": [
    "#โหลด model\n",
    "#model.summary()\n",
    "valid_dir = \"./valid\"\n",
    "test_x = []\n",
    "test_y = []\n",
    "\n",
    "for file_name in os.listdir(valid_dir):\n",
    "    file_path = os.path.join(valid_dir, file_name)\n",
    "    class_name = file_name.split('-')[0]\n",
    "    if class_name == '_classes.csv': continue\n",
    "    img = cv2.imread(file_path)\n",
    "    if img is None:\n",
    "        print(f\"Warning: Unable to read image {file_path}\")\n",
    "        continue\n",
    "    img = img.astype('float32')\n",
    "    img = cv2.cvtColor(img, cv2.COLOR_BGR2RGB)\n",
    "    img = cv2.resize(img, (128, 128), interpolation=cv2.INTER_AREA)\n",
    "    img /= 255.0\n",
    "    test_x.append(img)\n",
    "    test_y.append(class_label_encoding[class_name])\n",
    "\n",
    "#เปลี่ยน type list ให้เป็น array เพื่อใช้ train model\n",
    "test_x = np.array(test_x, dtype='float32')\n",
    "test_y = np.array(test_y, dtype='int')\n",
    "\n",
    "#เช็ค test data\n",
    "print(type(test_x), test_x.dtype)\n",
    "print(type(test_y), test_y.dtype)\n",
    "print(test_x.shape)\n",
    "print(test_y.shape)\n",
    "\n",
    "test_loss, test_accuracy = model.evaluate(test_x, test_y)\n",
    "print(f\"Test loss: {test_loss}\")\n",
    "print(f\"Test accuracy: {test_accuracy}\")\n",
    "\n",
    "predictions = model.predict(test_x)\n",
    "predicted_labels = np.argmax(predictions, axis=1)\n",
    "print(predicted_labels)\n"
   ]
  },
  {
   "cell_type": "code",
   "execution_count": 10,
   "metadata": {},
   "outputs": [
    {
     "name": "stdout",
     "output_type": "stream",
     "text": [
      "\u001b[1m15/15\u001b[0m \u001b[32m━━━━━━━━━━━━━━━━━━━━\u001b[0m\u001b[37m\u001b[0m \u001b[1m1s\u001b[0m 73ms/step\n"
     ]
    },
    {
     "data": {
      "image/png": "[encoded data removed]",
      "text/plain": [
       "<Figure size 640x480 with 2 Axes>"
      ]
     },
     "metadata": {},
     "output_type": "display_data"
    }
   ],
   "source": [
    "import numpy as np\n",
    "import matplotlib.pyplot as plt\n",
    "from sklearn.metrics import confusion_matrix, ConfusionMatrixDisplay\n",
    "\n",
    "\n",
    "#ทำ confusion metrix\n",
    "predictions = model.predict(test_x)\n",
    "predicted_labels = np.argmax(predictions, axis=1)\n",
    "\n",
    "class_names = {v: k for k, v in class_label_encoding.items()}\n",
    "cm = confusion_matrix(test_y, predicted_labels)\n",
    "\n",
    "#โชว์ confusion matrix\n",
    "disp = ConfusionMatrixDisplay(confusion_matrix=cm, display_labels=list(class_names.values()))\n",
    "\n",
    "disp.plot(cmap=plt.cm.Blues)\n",
    "plt.title(\"Confusion Matrix\")\n",
    "plt.show()\n"
   ]
  },
  {
   "cell_type": "code",
   "execution_count": 14,
   "metadata": {},
   "outputs": [
    {
     "name": "stdout",
     "output_type": "stream",
     "text": [
      "\u001b[1m12/12\u001b[0m \u001b[32m━━━━━━━━━━━━━━━━━━━━\u001b[0m\u001b[37m\u001b[0m \u001b[1m1s\u001b[0m 61ms/step\n",
      "F1 Score: 0.9700824425985545\n"
     ]
    }
   ],
   "source": [
    "# คำนวณหาค่า F1\n",
    "from sklearn.metrics import f1_score\n",
    "y_pred = model.predict(x_val)\n",
    "y_pred_classes = np.argmax(y_pred, axis=1)  # แปลงเป็น class ที่ทำนาย\n",
    "f1 = f1_score(y_val, y_pred_classes, average='weighted')\n",
    "print(\"F1 Score:\", f1)"
   ]
  },
  {
   "cell_type": "code",
   "execution_count": 15,
   "metadata": {},
   "outputs": [
    {
     "name": "stdout",
     "output_type": "stream",
     "text": [
      "\u001b[1m12/12\u001b[0m \u001b[32m━━━━━━━━━━━━━━━━━━━━\u001b[0m\u001b[37m\u001b[0m \u001b[1m1s\u001b[0m 62ms/step\n",
      "Precision: 0.9702034274610822\n",
      "Recall: 0.9700272479564033\n"
     ]
    }
   ],
   "source": [
    "# คำนวณค่า Precision และ Recall\n",
    "import numpy as np\n",
    "from sklearn.metrics import precision_score, recall_score\n",
    "\n",
    "y_pred = model.predict(x_val)\n",
    "y_pred_classes = np.argmax(y_pred, axis=1)  # แปลงเป็น class ที่ทำนาย\n",
    "\n",
    "precision = precision_score(y_val, y_pred_classes, average='weighted')\n",
    "recall = recall_score(y_val, y_pred_classes, average='weighted')\n",
    "print(\"Precision:\", precision)\n",
    "print(\"Recall:\", recall)\n"
   ]
  },
  {
   "cell_type": "code",
   "execution_count": 12,
   "metadata": {},
   "outputs": [
    {
     "name": "stderr",
     "output_type": "stream",
     "text": [
      "WARNING:absl:You are saving your model as an HDF5 file via `model.save()` or `keras.saving.save_model(model)`. This file format is considered legacy. We recommend using instead the native Keras format, e.g. `model.save('my_model.keras')` or `keras.saving.save_model(model, 'my_model.keras')`. \n"
     ]
    }
   ],
   "source": [
    "model.save('meat_freshness_model_add_layer.h5')"
   ]
  }
 ],
 "metadata": {
  "kernelspec": {
   "display_name": "Python 3",
   "language": "python",
   "name": "python3"
  },
  "language_info": {
   "codemirror_mode": {
    "name": "ipython",
    "version": 3
   },
   "file_extension": ".py",
   "mimetype": "text/x-python",
   "name": "python",
   "nbconvert_exporter": "python",
   "pygments_lexer": "ipython3",
   "version": "3.10.5"
  }
 },
 "nbformat": 4,
 "nbformat_minor": 2
}
