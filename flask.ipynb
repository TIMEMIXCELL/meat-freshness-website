{
 "cells": [
  {
   "cell_type": "code",
   "execution_count": null,
   "metadata": {},
   "outputs": [],
   "source": [
    "pip install Flask"
   ]
  },
  {
   "cell_type": "code",
   "execution_count": null,
   "metadata": {},
   "outputs": [],
   "source": [
    "pip install tensorflow"
   ]
  },
  {
   "cell_type": "code",
   "execution_count": null,
   "metadata": {},
   "outputs": [
    {
     "name": "stderr",
     "output_type": "stream",
     "text": [
      "WARNING:absl:Compiled the loaded model, but the compiled metrics have yet to be built. `model.compile_metrics` will be empty until you train or evaluate the model.\n"
     ]
    },
    {
     "name": "stdout",
     "output_type": "stream",
     "text": [
      " * Serving Flask app '__main__'\n",
      " * Debug mode: on\n"
     ]
    },
    {
     "name": "stderr",
     "output_type": "stream",
     "text": [
      "INFO:werkzeug:\u001b[31m\u001b[1mWARNING: This is a development server. Do not use it in a production deployment. Use a production WSGI server instead.\u001b[0m\n",
      " * Running on all addresses (0.0.0.0)\n",
      " * Running on http://127.0.0.1:5000\n",
      " * Running on http://192.168.1.106:5000\n",
      "INFO:werkzeug:\u001b[33mPress CTRL+C to quit\u001b[0m\n",
      "INFO:werkzeug:192.168.1.106 - - [11/Oct/2024 01:33:53] \"GET / HTTP/1.1\" 200 -\n",
      "INFO:werkzeug:192.168.1.106 - - [11/Oct/2024 01:33:53] \"\u001b[36mGET /static/logo.png HTTP/1.1\u001b[0m\" 304 -\n"
     ]
    },
    {
     "name": "stdout",
     "output_type": "stream",
     "text": [
      "\u001b[1m1/1\u001b[0m \u001b[32m━━━━━━━━━━━━━━━━━━━━\u001b[0m\u001b[37m\u001b[0m \u001b[1m0s\u001b[0m 288ms/step\n"
     ]
    },
    {
     "name": "stderr",
     "output_type": "stream",
     "text": [
      "INFO:werkzeug:192.168.1.106 - - [11/Oct/2024 01:33:57] \"POST /classify HTTP/1.1\" 200 -\n",
      "INFO:werkzeug:192.168.1.106 - - [11/Oct/2024 01:33:57] \"\u001b[36mGET /static/logo.png HTTP/1.1\u001b[0m\" 304 -\n"
     ]
    }
   ],
   "source": [
    "from flask import Flask, render_template, request, url_for, send_file\n",
    "from flask_sqlalchemy import SQLAlchemy\n",
    "from tensorflow.keras.models import load_model\n",
    "from tensorflow.keras.preprocessing.image import load_img, img_to_array\n",
    "import numpy as np\n",
    "import io\n",
    "from io import BytesIO\n",
    "import base64\n",
    "from PIL import Image\n",
    "import os\n",
    "import uuid\n",
    "\n",
    "# Initialize Flask app\n",
    "app = Flask(__name__, template_folder='C:/Users/veb72/Documents/GitHub/meat-freshness-website/template')\n",
    "\n",
    "#config DB\n",
    "app.config['SQLALCHEMY_DATABASE_URI'] = 'sqlite:///meat.db'\n",
    "UPLOAD_FOLDER = 'C:/Users/veb72/Documents/GitHub/meat-freshness-website/picture'\n",
    "app.config['UPLOAD_FOLDER'] = UPLOAD_FOLDER\n",
    "db = SQLAlchemy(app)\n",
    "\n",
    "#create schma\n",
    "class meat(db.Model):\n",
    "    id = db.Column(db.Integer, primary_key=True)\n",
    "    label = db.Column(db.String(30), nullable=False)\n",
    "    path = db.Column(db.String(100), nullable=False)\n",
    "\n",
    "    #reply path function\n",
    "    def __repr__(self):\n",
    "        return '<Path %r>' %self.label\n",
    "\n",
    "\n",
    "# Function to save base64 image to file\n",
    "def save_base64_image(base64_string, folder, filename):\n",
    "    image_data = base64.b64decode(base64_string.split(',')[1])\n",
    "    img = Image.open(io.BytesIO(image_data))\n",
    "    img.save(os.path.join(folder, filename))\n",
    "    return os.path.join(folder, filename)\n",
    "\n",
    "# Load your pre-trained model\n",
    "model_path = \"C:/Users/veb72/Documents/GitHub/meat-freshness-website/meat_freshness_model_add_layer.h5\"\n",
    "try:\n",
    "    model = load_model(model_path)\n",
    "except Exception as e:\n",
    "    print(f\"Error loading model: {e}\")\n",
    "    model = None\n",
    "\n",
    "@app.route('/')\n",
    "def index():\n",
    "    return render_template('index.html')\n",
    "\n",
    "@app.route('/classify', methods=['POST'])\n",
    "def classify():\n",
    "    # Validate file or captured image input\n",
    "    if 'file' not in request.files and 'captured_image' not in request.form:\n",
    "        return render_template('index.html', error=\"No file or image captured\")\n",
    "\n",
    "    img = None\n",
    "\n",
    "    # Check if the image was uploaded via file input\n",
    "    if 'file' in request.files and request.files['file'].filename != '':\n",
    "        file = request.files['file']\n",
    "        try:\n",
    "            img = Image.open(file.stream)  # Load image from the uploaded file stream\n",
    "        except Exception as e:\n",
    "            return render_template('index.html', error=f\"Error reading uploaded image: {str(e)}\")\n",
    "    \n",
    "    # Check if the image was captured via webcam\n",
    "    elif 'captured_image' in request.form and request.form['captured_image'] != '':\n",
    "        captured_image = request.form['captured_image']\n",
    "        try:\n",
    "            header, encoded = captured_image.split(',', 1)\n",
    "            img_data = io.BytesIO(base64.b64decode(encoded))  # Decode the base64 image\n",
    "            img = Image.open(img_data)\n",
    "        except Exception as e:\n",
    "            return render_template('index.html', error=f\"Error processing captured image: {str(e)}\")\n",
    "    \n",
    "    if img is None:\n",
    "        return render_template('index.html', error=\"No valid image found\")\n",
    "\n",
    "    # Convert image to RGB if it has an alpha channel (RGBA)\n",
    "    if img.mode == 'RGBA':\n",
    "        img = img.convert('RGB')\n",
    "    \n",
    "\n",
    "    # Resize image to the required input size for the model (128x128)\n",
    "    img = img.resize((128, 128))\n",
    "    img_array = img_to_array(img)  # Convert image to numpy array\n",
    "    img_array = img_array / 255.0  # Normalize the image\n",
    "    img_array = np.expand_dims(img_array, axis=0)  # Add batch dimension\n",
    "\n",
    "    # Make prediction using the model\n",
    "    predictions = model.predict(img_array)\n",
    "    class_labels = ['Spoiled', 'Half-fresh', 'Fresh']  # Adjust labels based on your model's output\n",
    "    result = class_labels[np.argmax(predictions)]  #กำหนดชื่อคลาสที่คุณต้องการใช้ ไม่ต้องตรงกับใน model ก็ได้ เเต่วางใน index array เดียวกัน\n",
    "\n",
    "    # Convert the image to a base64 string for displaying it in the result template\n",
    "    buffered = io.BytesIO()\n",
    "    img.save(buffered, format=\"PNG\")\n",
    "    img_str = base64.b64encode(buffered.getvalue()).decode('utf-8')\n",
    "    img_data_url = f\"data:image/png;base64,{img_str}\"\n",
    "\n",
    "    return render_template('result.html', result=result, img_data=img_data_url)\n",
    "\n",
    "@app.route('/submit_choice', methods=['POST'])\n",
    "def submit_choice():\n",
    "    user_choice = request.form.get('choice')\n",
    "    img_data = request.form.get('img_data_forward')\n",
    "\n",
    "    print(f\"img_data : {img_data}\")\n",
    "\n",
    "    print(f\"User Choice: {user_choice}\")\n",
    "    print(f\"Image Data: {img_data}\")\n",
    "\n",
    "    filename = f\"{uuid.uuid4().hex}.png\"  # Generate unique filename\n",
    "\n",
    "    if not os.path.exists(app.config['UPLOAD_FOLDER']):\n",
    "        os.makedirs(app.config['UPLOAD_FOLDER'])  # Create folder if it doesn't exist\n",
    "\n",
    "    # Check if the image was uploaded via file input\n",
    "    if img_data and img_data.startswith(\"data:image/png;base64,\"):  # Captured image\n",
    "        try:\n",
    "            save_base64_image(img_data, UPLOAD_FOLDER, filename)\n",
    "            upload = meat(path=filename, label=user_choice)\n",
    "            db.session.add(upload)\n",
    "            db.session.commit()\n",
    "        except Exception as e:\n",
    "            print(f\"Error saving base64 image: {e}\")\n",
    "\n",
    "    elif img_data and not img_data.startswith(\"data:image/png;base64,\"):  # Uploaded file\n",
    "        upload = meat(path=filename, label=user_choice)\n",
    "        db.session.add(upload)\n",
    "        db.session.commit()\n",
    "        try:\n",
    "            img_data.save(filename)  # Save the uploaded file directly\n",
    "        except Exception as e:\n",
    "            print(f\"Error saving uploaded file: {e}\")\n",
    "        else:\n",
    "            print(\"No valid file found.\")\n",
    "\n",
    "\n",
    "    return render_template('index.html')\n",
    "\n",
    "@app.route('/meatnu')\n",
    "def meatnu():\n",
    "    return render_template('meatnu.html')\n",
    "\n",
    "@app.route('/deals')\n",
    "def deals():\n",
    "    return render_template('deals.html')\n",
    "\n",
    "\n",
    "if __name__ == '__main__':\n",
    "    app.run(host=\"0.0.0.0\", port=5000, debug=True, use_reloader=False)\n"
   ]
  },
  {
   "cell_type": "code",
   "execution_count": null,
   "metadata": {},
   "outputs": [],
   "source": [
    "pip install app"
   ]
  }
 ],
 "metadata": {
  "kernelspec": {
   "display_name": "Python 3",
   "language": "python",
   "name": "python3"
  },
  "language_info": {
   "codemirror_mode": {
    "name": "ipython",
    "version": 3
   },
   "file_extension": ".py",
   "mimetype": "text/x-python",
   "name": "python",
   "nbconvert_exporter": "python",
   "pygments_lexer": "ipython3",
   "version": "3.12.7"
  }
 },
 "nbformat": 4,
 "nbformat_minor": 2
}
